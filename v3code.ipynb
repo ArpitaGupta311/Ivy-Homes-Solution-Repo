import requests
import string
import time
from itertools import product

# Define a function to fetch results from the v3 autocomplete API
def fetch_results_v3(query):
    """
    Fetches results from the v3 autocomplete API for a given query.
    
    Parameters:
    query (str): The query string to fetch results for.
    
    Returns:
    list: A list of results from the API.
    """
    url = f"http://35.200.185.69:8000/v3/autocomplete?query={query}"
    try:
        response = requests.get(url)
        response.raise_for_status()
        return response.json().get('results', [])
    except requests.exceptions.RequestException as e:
        print(f"Error fetching {query}: {e}")
        return []

# Define a function to extract names from the v3 autocomplete API
def extract_names_v3():
    """
    Extracts names from the v3 autocomplete API by querying all possible combinations of characters.
    
    Returns:
    set: A set of unique results from the API.
    """
    unique_results_v3 = set()  # Store unique results in a set
    length = 1  # Start with single character queries
    char_set = string.ascii_lowercase + string.digits + '+-'  # Character set for v3
    request_count = 0  # Initialize a counter for the number of requests
    
    while True:
        if length == 1:
            # Query all single characters (a-z, 0-9, +, -)
            for char in char_set:
                results = fetch_results_v3(char)
                unique_results_v3.update(results)
                request_count += 1  # Increment request count
                time.sleep(0.5)  # Delay to handle potential rate limiting
        else:
            # Generate all combinations of characters of the current length
            for chars in product(char_set, repeat=length):
                query = ''.join(chars)
                results = fetch_results_v3(query)
                if not results:
                    return unique_results_v3, request_count  # Stop if no results are returned
                unique_results_v3.update(results)
                request_count += 1  # Increment request count
                time.sleep(0.5)  # Delay to handle potential rate limiting
        
        length += 1  # Move to the next length

    return unique_results_v3, request_count

# Execute the function
results_v3, request_count_v3 = extract_names_v3()
print(f"Total Results for v3: {len(results_v3)}")
print(f"Total Requests Made for v3: {request_count_v3}")
print("Results in Ascending Order:")
for result in sorted(results_v3):
    print(result)
