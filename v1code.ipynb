import requests
import string
import time
from itertools import product

def fetch_results_v1(query):
    url = f"http://35.200.185.69:8000/v1/autocomplete?query={query}"
    try:
        response = requests.get(url)
        response.raise_for_status()
        return response.json().get('results', [])
    except requests.exceptions.RequestException as e:
        print(f"Error fetching {query}: {e}")
        return []

def extract_names_v1():
    unique_results_v1 = set()
    length = 1
    
    while True:
        if length == 1:
            for char in string.ascii_lowercase:
                results = fetch_results_v1(char)
                unique_results_v1.update(results)
                time.sleep(0.5)  # Delay to handle potential rate limiting
        else:
            for chars in product(string.ascii_lowercase, repeat=length):
                query = ''.join(chars)
                results = fetch_results_v1(query)
                if not results:
                    return unique_results_v1  # Stop if no results are returned
                unique_results_v1.update(results)
                time.sleep(0.5)  # Delay to handle potential rate limiting
        
        length += 1

    return unique_results_v1

# Execute the function
results_v1 = extract_names_v1()
print(f"Total Results for v1: {len(results_v1)}")
print("Results in Ascending Order:")
for result in sorted(results_v1):
    print(result)
